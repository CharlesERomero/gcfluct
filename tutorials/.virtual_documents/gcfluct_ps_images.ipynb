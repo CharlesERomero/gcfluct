


import matplotlib.pyplot as plt
import numpy as np
import gcfluct.spectra.spectra2d as spectra
import gcfluct.utils.image_filtering as imf





nPix = 1024                  # Number of pixels on a side (square image)
pixsize = 1.0                # Assume this is in kpc
units = "kpc"                # Let's have a string that goes with this.
kc = 3e-5                    # Assume this is in [pixsize]^(-1) -- so kpc^-1 in our case.
slope = -3.667               # Power goes as k**slope
p0 = 9e-4                    # Arbitrary units at the moment
fwhm = 5.0                   # kpc
s2f = 2*np.sqrt(2*np.log(2)) # Gaussian sigma to FWHM (if needed)
pixfwhm = fwhm/pixsize       # FWHM in pixels


PSobj = spectra.ImagesFromPS(nPix,pixsize=pixsize,slope=slope,kc=kc,p0=p0)
ks = PSobj.get_logspaced_k()
ps = PSobj.get_parameterized_ps(ks)


def spectra_plotting_setup(waveNumber,powerSpectrum,pltUnits,figNum=1,figsize=(4,3),dpi=200,twoD=True,AmpSpec=False,
                        psax=None,label=None,showLegend=False,ymin=None,ymax=None,legendFS=8,**kwargs):
    """
    Feel free to set up figures how you like. We'll make a few figures, so I'll make a function for the basic setup.
    I'll return the figure and axes objects in case more is to be done with them (foreshadowing)
    """
    if psax is None:
        dosetup = True
        psfig = plt.figure(figNum,figsize=figsize,dpi=dpi)
        psfig.clf() # If rerunning cell
        psax = psfig.add_subplot(111)
        psax.set_xscale("log")
        psax.set_yscale("log")
    else:
        dosetup = False
    if AmpSpec:
        if powerSpectrum.ndim == 2:
            WNreshaped = waveNumber.reshape(waveNumber.size,1)
            PSshape = powerSpectrum.shape
            WNreshaped = WNreshaped.repeat(PSshape[1],axis=1)
        else:
            WNreshaped = waveNumber
        tempQuantity = 2*np.pi*WNreshaped**2 * powerSpectrum
        if not twoD:
            tempQuantity *= 2*WNreshaped # (4 pi k**3 * p_k) for 3D case.
        outSpectrum = np.sqrt(tempQuantity)
    else:
        outSpectrum = powerSpectrum
    psax.plot(waveNumber,outSpectrum,label=label,**kwargs)
    if showLegend:
        psax.legend(fontsize=legendFS)

    ylims = psax.get_ylim()
    if ymax is not None:
        psax.set_ylim([ylims[0],ymax])
    ylims = psax.get_ylim()
    if ymin is not None:
        psax.set_ylim([ymin,ylims[1]])
    
    if dosetup:
        psax.set_xlabel(pltUnits+r"$^{-1}$")
        yAddon = pltUnits+r"$^{2}$" if twoD else pltUnits+r"$^{3}$" # Assume 3D if not 2D
        yLabel = r"A$_{k}$" if AmpSpec else r"P$_{k}$ ("+yAddon+")"
        psax.set_ylabel(yLabel) 
        psfig.tight_layout()

        return psfig,psax

def circ_coords(radius):

    thetas = np.arange(int(np.ceil(radius*np.pi)))*2/radius
    xx = np.cos(thetas)*radius
    yy = np.sin(thetas)*radius

    return xx,yy

def show_image(image,edges=None):

    imFig = plt.figure(2,figsize=(4,4),dpi=200)
    imAx = imFig.add_subplot(111)
    imAx.imshow(image)
    xlims = imAx.get_xlim()
    ylims = imAx.get_ylim()
    imAx.set_xlim(xlims)
    imAx.set_ylim(ylims)

    if edges is not None:
        nRings = len(Rings)-1
        colors = plt.cm.jet(np.linspace(0,1,nRings))
        for ri,Edge in enumerate(edges):
            cx,cy = addcirc(Edge/pixsize)
            imAx.plot(cx+center[0],cy+center[1],color=colors[ri])
    
    imAx.tick_params(top=False, bottom=False, left=False, right=False,
                    labelleft=False, labelbottom=False)


fig1,ax1 = spectra_plotting_setup(ks,ps,units)


raw_image = PSobj.generate_realization()
image = imf.fourier_filtering_2d(raw_image,"gauss",pixfwhm)     # in Compton y
show_image(image)


intrinsic_mask = np.ones(image.shape) # Suppose there are bad pixels; those could be omitted with zeros in this array.
img2PS = spectra.PSfromImages(image,pixsize=pixsize,intrinsic_mask=intrinsic_mask)


img2PS.ps_via_a12_2d()


fig2,ax2 = spectra_plotting_setup(img2PS.a12_kn,img2PS.a12_pk,units)





fig2,ax2 = spectra_plotting_setup(img2PS.A12_kn,img2PS.A12_pk,units,AmpSpec=True)


img2PS.PSviaFFT_2D_noMask()





fig3,ax3 = spectra_plotting_setup(ks,ps,units,AmpSpec=True,label="input spectrum")
spectra_plotting_setup(img2PS.A12_kn,img2PS.A12_pk,units,AmpSpec=True,psax=ax3,label="via A12")
spectra_plotting_setup(img2PS.FFT_kb,img2PS.FFT_pk,units,AmpSpec=True,psax=ax3,label="via FFT",
                     showLegend=True,ymin=1e-3)





nImgs = 9
PS_viaA12 = np.zeros(img2PS.A12_pk.shape) #
PS_viaFFT = np.zeros(img2PS.FFT_pk.shape)  # 
for i in range(nImgs):
    print(i) 
    ##############################################################################
    raw_image = PSobj.generate_realization()
    image = imf.fourier_filtering_2d(raw_image,"gauss",pixfwhm)     # in Compton y
    ##############################################################################
    img2PS.update_img(image)
    img2PS.PSviaA12_2D_perK_perBin()
    img2PS.PSviaFFT_2D_noMask()
    PS_viaA12 += img2PS.A12_pk
    PS_viaFFT += img2PS.FFT_pk
PS_viaA12 /= nImgs
PS_viaFFT /= nImgs


sigma   = fwhm/(2.0*np.sqrt(2.0*np.log(2)))
ps_beam_A12 = np.exp(-4.0*img2PS.A12_kn*img2PS.A12_kn*sigma*sigma*np.pi*np.pi) # at appropriate k values
ps_beam_A12_reshape = ps_beam_A12.reshape(img2PS.A12_kn.shape+(1,))
ps_beam_A12_reshape = ps_beam_A12_reshape.repeat(PS_viaA12.shape[1],axis=1)
ps_beam_FFT = np.exp(-4.0*img2PS.FFT_kb*img2PS.FFT_kb*sigma*sigma*np.pi*np.pi) # at appropriate k values


fig4,ax4 = spectra_plotting_setup(ks,ps,units,AmpSpec=True,label="input spectrum")
spectra_plotting_setup(img2PS.A12_kn,PS_viaA12,units,AmpSpec=True,psax=ax4,label="via A12")
spectra_plotting_setup(img2PS.A12_kn,PS_viaA12/ps_beam_A12_reshape,units,AmpSpec=True,psax=ax4,
                     label="via A12, naive correction")
spectra_plotting_setup(img2PS.FFT_kb,PS_viaFFT,units,AmpSpec=True,psax=ax4,label="via FFT",
                     ymin=1e-3)
spectra_plotting_setup(img2PS.FFT_kb,PS_viaFFT/ps_beam_FFT,units,AmpSpec=True,psax=ax4,
                     label="via FFT, naive correction",showLegend=True,ymin=1e-3)





CPS=reload(CPS)


# Let's do some more work with our beam. To do this, we'll use a class that allows for the beam to consist
# of multiple Gaussians. As such, the class will expect a beam to be characterize by iterable parameters.
normalizations = [1] # The iterable normalizations (height) of the Gaussian
sigmas = [sigma] # The iterable Gaussian sigmas (width)
PSF = CPS.MultiGaussBeam(normalizations,sigmas)
A12biasPSF = PSF.get_multiGauss_bias(img2PS.A12_kn,-PSobj.slope,ignPSF=True)
A12biasPSF_reshape = A12biasPSF.reshape(img2PS.A12_kn.shape+(1,)) # Could transpose and tile
A12biasPSF_reshape = A12biasPSF_reshape.repeat(PS_viaA12.shape[1],axis=1) # But this is sufficient


fig4,ax4 = spectra_plotting_setup(ks,ps,units,AmpSpec=True,label="input spectrum")
spectra_plotting_setup(img2PS.A12_kn,PS_viaA12,units,AmpSpec=True,psax=ax4,label="via A12")
spectra_plotting_setup(img2PS.A12_kn,PS_viaA12/ps_beam_A12_reshape,units,AmpSpec=True,psax=ax4,
                     label="via A12, naive correction")
spectra_plotting_setup(img2PS.A12_kn,PS_viaA12/A12biasPSF_reshape,units,AmpSpec=True,psax=ax4,
                     label="via A12, astute correction",ls="--",lw=3.0,showLegend=True,alpha=0.5)



