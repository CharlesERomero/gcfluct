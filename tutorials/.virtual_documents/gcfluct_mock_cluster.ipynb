


import matplotlib.pyplot as plt
import numpy as np
import gcfluct.gc.selfsimilar_gc as ssgc
import gcfluct.spectra.spectra2d as spectra
import gcfluct.spectra.gc_spec_deproj as deproj
import gcfluct.utils.image_filtering as imf
import gcfluct.utils.mock_obs as mo
import astropy.units as u





z = 0.4
m500 = 5e14 * u.M_sun 


gc_model = ssgc.SS_Model(z,m500)


#d_ang = ssgc.get_d_ang(z).to("kpc").value
kpc_per_arcsecond = gc_model.d_ang.to("kpc").value / (3600 * 180 / np.pi)
print("kpc per arcsecond: ",kpc_per_arcsecond)


gc_model.set_xr_USBP()





# Define a turbulent (3D) power spectrum. 
# I'm ignoring a dissipative scale; the default will put it at very small scales
# I'll also leave the eta_c and eta_d parameters as their defaults.

kc = 3e-3         # Assume this is in [pixsize]^(-1) -- so kpc^-1 in our case.
slope = -3        # Power goes as k**slope
p0 = 3e-2         # Arbitrary units at the moment
no_warn = True    # Ignore some warnings (in regards to pixels for image creation) for now.
ps2img = spectra.ImagesFromPS(slope=slope,kc=kc,p0=p0,no_warn=no_warn)





pix_arcsec = 2.5 # 
pixsize = pix_arcsec*kpc_per_arcsecond    # in kpc
# We set no_warn earlier because the class strongly prefers units to be set.
# It's still "optional" insofar as there are use cases where you don't need to set
# the units
pixunits = u.kpc 
n_r500 = 2
npix = int(np.round(gc_model.arcminutes500*2*n_r500*60/pix_arcsec))   
ps2img.set_image_size(npix,pixsize,pixunits=pixunits)
# Same number as in x -- keep things simple.





image = ps2img.generate_realization()
gc_model.set_ss_maps(imagefromps=ps2img) # Let gc_model know the grid used for producing maps.





image_is_sz = False # We are modeling (simulating) an X-ray image, not SZ here.
gc_deproj = deproj.SpecDeproj(gc_model,spec_model=ps2img,sz = image_is_sz) 
n_map = gc_deproj.return_integ_nmap(use_obs_spec=False) # Gives factors to translate between P_2D and P_3D





ds_s = np.sqrt(n_map) * image     # Normalized residual.
ds = ds_s * gc_model.xrsb_map      # Residual image in cnts/s/arcmin**2
s_cluster = ds + gc_model.xrsb_map # Image in cnts/s/arcmin**2





ksec = 50 # kiloseconds
exposure_map = mo.mock_XMM_exposure(ps2img,ksec,rot=30,incChipGaps=True) # in seconds





s_particle_bkg = 1e-3                  # This is a typical uniform, quiescent particle X-ray background. Soft protons and SWCX usually are sub-dominant.
s_cosmic_bkg = 1e-3                    # The cosmic X-ray background
s_bkg = s_particle_bkg + s_cosmic_bkg  # Total background rate


s_tot = s_cluster + s_bkg  # Assume that we can account for all photons in this manner
Counts_Total = s_tot * exposure_map * (pix_arcsec/60)**2


rng = np.random.default_rng()
SyntheticImage = rng.poisson(lam=Counts_Total)


CntFig = plt.figure(1,figsize=(4,4),dpi=200)
CntAx = CntFig.add_subplot(111)
CntAx.imshow(SyntheticImage,norm="log")
#xlims = CntAx.get_xlim()
#ylims = CntAx.get_ylim()
#CntAx.set_xlim(xlims)
#CntAx.set_ylim(ylims)
    
CntAx.tick_params(top=False, bottom=False, left=False, right=False,
                labelleft=False, labelbottom=False)






